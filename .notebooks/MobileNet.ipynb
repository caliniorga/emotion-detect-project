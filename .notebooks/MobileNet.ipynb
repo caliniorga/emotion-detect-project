{
 "cells": [
  {
   "cell_type": "markdown",
   "metadata": {},
   "source": [
    "## Image classification using MobileNet\n",
    "In essence, this code creates a model that uses a pre-trained MobileNet network for feature extraction and then adds fully connected layers for classification. The fully connected layer is the part that will be further trained to adapt to the specific data of your classification problem, while the MobileNet layers remain unchanged and are used to extract features from the images. "
   ]
  },
  {
   "cell_type": "code",
   "execution_count": 2,
   "metadata": {},
   "outputs": [],
   "source": [
    "import numpy as np\n",
    "import pandas as pd\n",
    "import matplotlib.pyplot as plt\n",
    "\n",
    "from keras.layers import Flatten, Dense\n",
    "from keras.models import Model\n",
    "from keras.preprocessing.image import ImageDataGenerator , img_to_array, load_img\n",
    "from keras.applications.mobilenet import MobileNet, preprocess_input \n",
    "from keras.losses import categorical_crossentropy"
   ]
  },
  {
   "cell_type": "code",
   "execution_count": 4,
   "metadata": {},
   "outputs": [],
   "source": [
    "# Create a MobileNet model with an input shape of 224x224 pixels and 3 color channels (RGB).\n",
    "# The parameter include_top=False means that the fully connected classification layers are not included.\n",
    "model = MobileNet(input_shape=(224, 224, 3), include_top=False)\n",
    "\n",
    "# To prevent further training of the MobileNet layers, all layers in the model are set as non-trainable.\n",
    "for layer in model.layers:\n",
    "    layer.trainable = False\n",
    "\n",
    "# Add a Flatten layer to convert the model's output into a one-dimensional vector.\n",
    "x = Flatten()(model.output)\n",
    "\n",
    "# Add a Dense layer with 7 units and a 'softmax' activation function for final classification.\n",
    "x = Dense(units=7, activation='softmax')(x)\n",
    "\n",
    "# Create a new model that combines the MobileNet architecture with the added layers for classification.\n",
    "model = Model(model.input, x)\n"
   ]
  }
 ],
 "metadata": {
  "kernelspec": {
   "display_name": "Python 3",
   "language": "python",
   "name": "python3"
  },
  "language_info": {
   "codemirror_mode": {
    "name": "ipython",
    "version": 3
   },
   "file_extension": ".py",
   "mimetype": "text/x-python",
   "name": "python",
   "nbconvert_exporter": "python",
   "pygments_lexer": "ipython3",
   "version": "3.11.4"
  }
 },
 "nbformat": 4,
 "nbformat_minor": 2
}
